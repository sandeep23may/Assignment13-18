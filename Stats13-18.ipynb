{
 "cells": [
  {
   "cell_type": "code",
   "execution_count": 3,
   "metadata": {},
   "outputs": [
    {
     "name": "stdout",
     "output_type": "stream",
     "text": [
      "[1550, 1700, 900, 850, 1000, 950]\n"
     ]
    }
   ],
   "source": [
    "\"\"\"\n",
    "2.Problem Statement \n",
    " Problem Statement 1: \n",
    " \n",
    "You survey households in your area to find the average rent they are paying. Find the standard deviation from the following data: \n",
    " \n",
    "$1550, $1700, $900, $850, $1000, $950. \n",
    " \n",
    "\"\"\"\n",
    "import numpy as np\n",
    "avg_rent=['$1550', '$1700', '$900', '$850', '$1000', '$950']\n",
    "avg_rent1 = [ int(i[1:]) for i in avg_rent]\n",
    "print (avg_rent1)"
   ]
  },
  {
   "cell_type": "code",
   "execution_count": 4,
   "metadata": {},
   "outputs": [
    {
     "name": "stdout",
     "output_type": "stream",
     "text": [
      "1158.3333333333333\n",
      "335.92740617910624\n"
     ]
    }
   ],
   "source": [
    "rent_arr = np.array(avg_rent1)\n",
    "avg_rent=np.mean(rent_arr)\n",
    "print (avg_rent)\n",
    "std_dev = np.std(rent_arr)\n",
    "print (std_dev)"
   ]
  },
  {
   "cell_type": "code",
   "execution_count": 5,
   "metadata": {},
   "outputs": [
    {
     "name": "stdout",
     "output_type": "stream",
     "text": [
      "58.5\n",
      "5183.25\n",
      "5183.25\n"
     ]
    }
   ],
   "source": [
    "\"\"\"\n",
    "Problem Statement 2: \n",
    " \n",
    "Find the variance for the following set of data representing trees in California (heights in feet): \n",
    " \n",
    "3, 21, 98, 203, 17, 9 \n",
    "\n",
    " \n",
    "\"\"\"\n",
    "tree_height= np.array([3, 21, 98, 203, 17, 9])\n",
    "varian= np.var(tree_height)\n",
    "heig_m=np.mean(tree_height)\n",
    "print(np.mean(tree_height))\n",
    "print (varian)\n",
    "\n",
    "def var1(arr,heig_m):\n",
    "    var_res = 0\n",
    "    for i in range(0,arr.size):\n",
    "        var_res = var_res+np.power((arr[i]-heig_m),2)\n",
    "    return var_res/arr.size\n",
    "print (var1(tree_height,heig_m))"
   ]
  },
  {
   "cell_type": "code",
   "execution_count": 6,
   "metadata": {},
   "outputs": [
    {
     "name": "stdout",
     "output_type": "stream",
     "text": [
      "probablity of failing in one subject 0.1\n",
      "probablity of failing in two subject 0.07\n",
      "probablity of failing in three subject 0.03\n"
     ]
    }
   ],
   "source": [
    "\"\"\"\n",
    " \n",
    "Problem Statement 3: \n",
    " \n",
    "In a class on 100 students, 80 students passed in all subjects, 10 failed in one subject, 7 failed in two subjects \n",
    "and 3 failed in three subjects. Find the probability distribution of the variable for number of subjects a student \n",
    "from the given class has failed in. \n",
    " \n",
    "\"\"\"\n",
    "\n",
    "total_std= 100\n",
    "std_pass=80\n",
    "failed_in_one=10\n",
    "failed_in_two = 7\n",
    "failed_in_three = 3\n",
    "\n",
    "print (\"probablity of failing in one subject\",failed_in_one/total_std )\n",
    "print (\"probablity of failing in two subject\",failed_in_two/total_std )\n",
    "print (\"probablity of failing in three subject\",failed_in_three/total_std )\n",
    "\n"
   ]
  },
  {
   "cell_type": "code",
   "execution_count": 7,
   "metadata": {
    "collapsed": true
   },
   "outputs": [],
   "source": [
    "###################2.2. Problem Statement: STATISTICS 2 ####################################3"
   ]
  },
  {
   "cell_type": "code",
   "execution_count": 7,
   "metadata": {},
   "outputs": [
    {
     "name": "stdout",
     "output_type": "stream",
     "text": [
      "probability that a person undertaking that test has answered exactly 5 questions wrong : 3.4264958230778435e-06\n"
     ]
    }
   ],
   "source": [
    "\"\"\"\n",
    "2.Problem Statement \n",
    " Problem Statement 1: \n",
    " \n",
    "A test is conducted which is consisting of 20 MCQs (multiple choices questions) with every MCQ having its four options \n",
    "out of which only one is correct. Determine the probability that a person undertaking that test has answered\n",
    "exactly 5 questions wrong. \n",
    " \n",
    "\n",
    "\n",
    "\"\"\"\n",
    "total_mcq=20\n",
    "p_for_right=3/4\n",
    "\n",
    "import numpy as np\n",
    "import scipy.stats\n",
    "import math\n",
    "\n",
    "# exactly 5 question wrong \n",
    "pmf = scipy.stats.binom.pmf(5,total_mcq,p_for_right)\n",
    "print (\"probability that a person undertaking that test has answered exactly 5 questions wrong :\",pmf)\n"
   ]
  },
  {
   "cell_type": "code",
   "execution_count": 9,
   "metadata": {},
   "outputs": [
    {
     "data": {
      "text/plain": [
       "0.029531204310523224"
      ]
     },
     "execution_count": 9,
     "metadata": {},
     "output_type": "execute_result"
    }
   ],
   "source": [
    "\"\"\"\n",
    " \n",
    "Problem Statement 2: \n",
    " \n",
    "A die marked A to E is rolled 50 times. Find the probability of getting a “D” exactly 5 times. \n",
    " \n",
    "\n",
    "\"\"\"\n",
    "rol_itr= 50\n",
    "p_for_d=1/5\n",
    "#pmf(X=5)\n",
    "pmf_for_d = scipy.stats.binom.pmf(5,rol_itr,p_for_d)\n",
    "pmf_for_d\n",
    "\n"
   ]
  },
  {
   "cell_type": "code",
   "execution_count": 10,
   "metadata": {},
   "outputs": [
    {
     "name": "stdout",
     "output_type": "stream",
     "text": [
      "range(1, 100)\n",
      "[2.43896075e-07 3.96129909e-07 6.36982518e-07 1.01408521e-06\n",
      " 1.59837411e-06 2.49424713e-06 3.85351967e-06 5.89430678e-06\n",
      " 8.92616572e-06 1.33830226e-05 1.98655471e-05 2.91946926e-05\n",
      " 4.24780271e-05 6.11901930e-05 8.72682695e-05 1.23221917e-04\n",
      " 1.72256894e-04 2.38408820e-04 3.26681906e-04 4.43184841e-04\n",
      " 5.95253242e-04 7.91545158e-04 1.04209348e-03 1.35829692e-03\n",
      " 1.75283005e-03 2.23945303e-03 2.83270377e-03 3.54745928e-03\n",
      " 4.39835960e-03 5.39909665e-03 6.56158148e-03 7.89501583e-03\n",
      " 9.40490774e-03 1.10920835e-02 1.29517596e-02 1.49727466e-02\n",
      " 1.71368592e-02 1.94186055e-02 2.17852177e-02 2.41970725e-02\n",
      " 2.66085250e-02 2.89691553e-02 3.12253933e-02 3.33224603e-02\n",
      " 3.52065327e-02 3.68270140e-02 3.81387815e-02 3.91042694e-02\n",
      " 3.96952547e-02 3.98942280e-02 3.96952547e-02 3.91042694e-02\n",
      " 3.81387815e-02 3.68270140e-02 3.52065327e-02 3.33224603e-02\n",
      " 3.12253933e-02 2.89691553e-02 2.66085250e-02 2.41970725e-02\n",
      " 2.17852177e-02 1.94186055e-02 1.71368592e-02 1.49727466e-02\n",
      " 1.29517596e-02 1.10920835e-02 9.40490774e-03 7.89501583e-03\n",
      " 6.56158148e-03 5.39909665e-03 4.39835960e-03 3.54745928e-03\n",
      " 2.83270377e-03 2.23945303e-03 1.75283005e-03 1.35829692e-03\n",
      " 1.04209348e-03 7.91545158e-04 5.95253242e-04 4.43184841e-04\n",
      " 3.26681906e-04 2.38408820e-04 1.72256894e-04 1.23221917e-04\n",
      " 8.72682695e-05 6.11901930e-05 4.24780271e-05 2.91946926e-05\n",
      " 1.98655471e-05 1.33830226e-05 8.92616572e-06 5.89430678e-06\n",
      " 3.85351967e-06 2.49424713e-06 1.59837411e-06 1.01408521e-06\n",
      " 6.36982518e-07 3.96129909e-07 2.43896075e-07]\n",
      "0.8413447460685429\n",
      "0.3085375387259869\n",
      "0.532807207342556\n"
     ]
    },
    {
     "data": {
      "image/png": "[encoded data removed]",
      "text/plain": [
       "<matplotlib.figure.Figure at 0x20d2450ef98>"
      ]
     },
     "metadata": {},
     "output_type": "display_data"
    }
   ],
   "source": [
    "import matplotlib.pyplot as plt\n",
    "%matplotlib inline\n",
    "\n",
    "npdf = scipy.stats.norm(50,10)\n",
    "x = range(1,100)\n",
    "print (x)\n",
    "print (npdf.pdf(x))\n",
    "plt.plot(x,npdf.pdf(x))\n",
    "\n",
    "\n",
    "print (scipy.stats.norm(50,10).cdf(60))\n",
    "print (scipy.stats.norm(50,10).cdf(45))\n",
    "\n",
    "print (scipy.stats.norm(50,10).cdf(60)-scipy.stats.norm(50,10).cdf(45))"
   ]
  },
  {
   "cell_type": "code",
   "execution_count": 11,
   "metadata": {},
   "outputs": [
    {
     "name": "stdout",
     "output_type": "stream",
     "text": [
      "problity of Both red  0.13333333333333333\n",
      "problity of Both black  0.3333333333333333\n",
      "problity of first red and second black  0.26666666666666666\n",
      "problity of first black,second red  0.26666666666666666\n",
      "problity of one black,one red  0.5333333333333333\n"
     ]
    }
   ],
   "source": [
    "\"\"\"\n",
    "\n",
    " \n",
    "Problem Statement 3: \n",
    " \n",
    "Two balls are drawn at random in succession without replacement from an urn containing 4 red balls and 6 black balls. \n",
    " \n",
    "Find the probabilities of all the possible outcomes. \n",
    "\"\"\"\n",
    "print (\"problity of Both red \",(4/10)*(3/9))\n",
    "print (\"problity of Both black \",(6/10)*(5/9))\n",
    "print (\"problity of first red and second black \",(4/10)*(6/9))\n",
    "print (\"problity of first black,second red \",(6/10)*(4/9))\n",
    "print (\"problity of one black,one red \",((6/10)*(4/9))+((6/10)*(4/9)))\n"
   ]
  },
  {
   "cell_type": "code",
   "execution_count": 12,
   "metadata": {
    "collapsed": true
   },
   "outputs": [],
   "source": [
    "##############################  2.3. Problem Statement: STATISTICS 3  ################################"
   ]
  },
  {
   "cell_type": "code",
   "execution_count": 30,
   "metadata": {},
   "outputs": [
    {
     "name": "stdout",
     "output_type": "stream",
     "text": [
      "z value  3.2\n",
      "p value is : 0.9993128620620841\n",
      "Null hypothesis (Ho= xbar_blood_level>mu_blood_level) is true\n",
      "norm.ppf(.95): 1.6448536269514722\n",
      "Null hypothesis (Ho= xbar_blood_level>mu_blood_level) is true\n"
     ]
    }
   ],
   "source": [
    "\"\"\"\n",
    "Blood glucose levels for obese patients have a mean of 100 with a standard deviation of  15.\n",
    "A researcher thinks that a diet high in raw cornstarch will have a positive effect on blood glucose levels. \n",
    "A sample of 36 patients who have tried the raw cornstarch diet have a mean glucose level of 108. \n",
    "Test the hypothesis that the raw cornstarch had an effect or not. \n",
    " \n",
    " \n",
    "\n",
    " \n",
    " \n",
    "\"\"\"\n",
    "import math\n",
    "from scipy.stats import norm \n",
    "mu_blood_level= 100\n",
    "std_bllod_level =15\n",
    "\n",
    "n_sample= 36\n",
    "xbar_blood_level=108\n",
    "\n",
    "z=(xbar_blood_level-mu_blood_level)/(std_bllod_level/math.sqrt(n_sample))\n",
    "print (\"z value \",z)\n",
    "\n",
    "p_value = norm.cdf(z)\n",
    "print (\"p value is :\",p_value)\n",
    "\n",
    "#### p value test\n",
    "if (p_value>.95):\n",
    "    print (\"Null hypothesis (Ho= xbar_blood_level>mu_blood_level) is true\")\n",
    "else:\n",
    "    print (\"Alternative (H1 = xbar_blood_level = mu_blood_level) hypothesis is true \")\n",
    "\n",
    "\n",
    "#### z test\n",
    "\n",
    "print (\"norm.ppf(.95):\",norm.ppf(.95))\n",
    "if (norm.ppf(.95)< z):\n",
    "    print (\"Null hypothesis (Ho= xbar_blood_level>mu_blood_level) is true\")\n",
    "else :\n",
    "    print (\"Alternative (H1 = xbar_blood_level = mu_blood_level) hypothesis is true \")\n",
    "\n",
    "#####    P test \n",
    "\n",
    "\n",
    "    \n",
    "\n",
    "### Hypothesis####\n",
    "#### Ho= xbar_blood_level>mu_blood_level\n",
    "#### H1 = xbar_blood_level = mu_blood_level\n",
    "#### alternative hypothese ####\n",
    "\n",
    "\n"
   ]
  },
  {
   "cell_type": "code",
   "execution_count": 15,
   "metadata": {},
   "outputs": [
    {
     "name": "stdout",
     "output_type": "stream",
     "text": [
      "t value is  5.333333333333333\n",
      "p value is  3.050283056138525e-07\n",
      "Null hypothesis:annual family income on Metropolis is $48,432 not true\n",
      "t value in 5% level of significance +- 1.9842169515086827\n",
      "Null hypothesis is not true\n"
     ]
    }
   ],
   "source": [
    "pb5_mu = 100\n",
    "pb5_n = 100\n",
    "pb5_xbar= 108\n",
    "pb5_std=15\n",
    "\n",
    "\n",
    "pb5_t= (pb5_xbar-pb5_mu)/(pb5_std/pow(pb5_n,1/2))\n",
    "\n",
    "print (\"t value is \",pb5_t)\n",
    "\n",
    "pb5_pvalue= 1-scipy.stats.t.cdf(pb5_t,pb5_n-1)\n",
    "print (\"p value is \",pb5_pvalue)\n",
    "\n",
    "#### p value test\n",
    "if (pb5_pvalue>.05):\n",
    "    print (\"Null hypothesis:Annual family income on Metropolis is $48,432  true\")\n",
    "else:\n",
    "    print (\"Null hypothesis:annual family income on Metropolis is $48,432 not true\")\n",
    "\n",
    "#### Significance level test\n",
    "print (\"t value in 5% level of significance +-\",scipy.stats.t.ppf(.975,pb5_n-1))\n",
    "if(pb5_t>-scipy.stats.t.ppf(.975,pb5_n-1) and pb5_t<scipy.stats.t.ppf(.975,pb5_n-1) ):\n",
    "    print (\"Null hypothesis is true\")\n",
    "else :\n",
    "    print (\"Null hypothesis is not true\")\n"
   ]
  },
  {
   "cell_type": "code",
   "execution_count": 54,
   "metadata": {},
   "outputs": [
    {
     "name": "stdout",
     "output_type": "stream",
     "text": [
      "0.24 probability that the survey will show a greater percentage of Republican voters in the second state than in the first state\n"
     ]
    }
   ],
   "source": [
    "\"\"\"\n",
    "1. In one state, 52% of the voters are Republicans, and 48% are Democrats. In a second state, 47% of the voters are Republicans,\n",
    "and 53% are Democrats. Suppose a simple random sample of 100 voters are surveyed from each state. \n",
    " \n",
    "What is the probability that the survey will show a greater percentage of Republican voters in the second state than in \n",
    "the first state? \n",
    " \n",
    " \n",
    "\"\"\"\n",
    "import math\n",
    "from scipy.stats import norm \n",
    "total =100\n",
    "P1_rep = .52\n",
    "P2_rep = .47\n",
    "P1_dem = .48\n",
    "P2_dem = .53\n",
    "\n",
    "mean_diff_rep =  P1_rep-P2_rep\n",
    "mean_diff_rep\n",
    "std = math.sqrt(((P1_rep)*(1-P1_rep)/total)+((P2_rep)*(1-P2_rep)/total))\n",
    "z_rep= (0-mean_diff_rep)/std\n",
    "z_rep\n",
    "p_rep = norm.cdf(z_rep)\n",
    "\n",
    "print (\"{} probability that the survey will show a greater percentage of Republican voters in the second state than in the first state\".format(round(p_rep,2)))"
   ]
  },
  {
   "cell_type": "code",
   "execution_count": null,
   "metadata": {
    "collapsed": true
   },
   "outputs": [],
   "source": []
  },
  {
   "cell_type": "code",
   "execution_count": 17,
   "metadata": {},
   "outputs": [
    {
     "data": {
      "text/plain": [
       "'\\n2. You take the SAT and score 1100. The mean score for the SAT is 1026 and the standard deviation is 209. \\nHow well did you score on the test compared to the average test taker? '"
      ]
     },
     "execution_count": 17,
     "metadata": {},
     "output_type": "execute_result"
    }
   ],
   "source": []
  },
  {
   "cell_type": "code",
   "execution_count": 29,
   "metadata": {},
   "outputs": [
    {
     "name": "stdout",
     "output_type": "stream",
     "text": [
      "0.35406698564593303\n",
      "probablity of getting Score more than avg test taker : 0.6383556584353189\n"
     ]
    }
   ],
   "source": [
    "\"\"\"\n",
    "2. You take the SAT and score 1100. The mean score for the SAT is 1026 and the standard deviation is 209. \n",
    "How well did you score on the test compared to the average test taker? \"\"\"\n",
    "\n",
    "mu_sat=1026\n",
    "sat_score= 1100\n",
    "sig_sat=209\n",
    "\n",
    "sat_z= (sat_score-mu_sat)/sig_sat\n",
    "print (sat_z)\n",
    "\n",
    "print(\"probablity of getting Score more than avg test taker :\",scipy.stats.norm.cdf(sat_z))"
   ]
  },
  {
   "cell_type": "code",
   "execution_count": 19,
   "metadata": {
    "collapsed": true
   },
   "outputs": [],
   "source": [
    "############################################ 2.4. Problem Statement: STATISTICS 4 ###################################"
   ]
  },
  {
   "cell_type": "code",
   "execution_count": null,
   "metadata": {},
   "outputs": [],
   "source": [
    "\n"
   ]
  },
  {
   "cell_type": "code",
   "execution_count": 21,
   "metadata": {},
   "outputs": [
    {
     "name": "stdout",
     "output_type": "stream",
     "text": [
      "        HighSchool  Bachelor  Masters  PHD\n",
      "Female          60        54       46   41\n",
      "Male            40        44       53   57\n",
      "3\n",
      "Chi squr value is  : 8.006066246262538\n",
      "p value : 0.045886500891747214\n",
      " Degree of freedom 3\n",
      "Expected values are: [[50.88607595 49.86835443 50.37721519 49.86835443]\n",
      " [49.11392405 48.13164557 48.62278481 48.13164557]]\n",
      "critical : 7.8147279032511765\n",
      "Dependent (reject H0),Gender and education level dependent at 5% level of significance\n",
      "Dependent (reject H0),Gender and education level dependent at 5% level of significance\n"
     ]
    }
   ],
   "source": [
    "\"\"\"\n",
    "1. Is gender independent of education level? A random sample of 395 people were surveyed and each person was asked to report \n",
    "the highest education level they obtained. The data that resulted from the survey is summarized in the following \n",
    "table: \n",
    " \n",
    "       High-School    Bachelor         Masters Ph.D.   Total \n",
    "Female     60         54               46        41    201      \n",
    "Male        40        44               53        57    194 \n",
    "Total       100       98               99        98    395 \n",
    " \n",
    "Question: Are gender and education level dependent at 5% level of significance? \n",
    "In other words, given the data collected above, is there a relationship between the gender of an individual and the \n",
    "level of education that they have obtained? \n",
    "\"\"\"\n",
    "import pandas as pd\n",
    "import numpy as np\n",
    "\n",
    "\n",
    "sample = [(60,54,46,41),\n",
    "       (40,44,53,57)        \n",
    "         ]\n",
    "#print (sample.get('Female')) \n",
    "df= pd.DataFrame(sample,columns=['HighSchool','Bachelor','Masters','PHD'],index=['Female','Male'])\n",
    "print (df.head())\n",
    "\n",
    "degree_of_freedom=(df.shape[0]-1)*(df.shape[1]-1)\n",
    "print (degree_of_freedom)\n",
    "\n",
    "#If p-value <= alpha: significant result, reject null hypothesis (H0), dependent.\n",
    "#If p-value > alpha: not significant result, fail to reject null hypothesis (H0), independent.\n",
    "#\n",
    "from scipy.stats import chi2_contingency,chi2\n",
    "chi_sqr_val, p, dof, expected = chi2_contingency(df)\n",
    "print (\"Chi squr value is  :\",chi_sqr_val)\n",
    "print (\"p value :\",p)\n",
    "print (\" Degree of freedom\",dof)\n",
    "print (\"Expected values are:\",expected)\n",
    "\n",
    "\n",
    "# interpret test-statistic\n",
    "prob = 0.95\n",
    "critical = chi2.ppf(prob, dof)\n",
    "print (\"critical :\",critical)\n",
    "if abs(chi_sqr_val) >= critical:\n",
    "\tprint('Dependent (reject H0),Gender and education level dependent at 5% level of significance')\n",
    "else:\n",
    "\tprint('Independent (fail to reject H0),gender and education level not dependent at 5% level of significance')\n",
    "    \n",
    "    \n",
    "# interpret p-value\n",
    "alpha = 1.0 - prob\n",
    "if p <= alpha:\n",
    "\tprint('Dependent (reject H0),Gender and education level dependent at 5% level of significance')\n",
    "else:\n",
    "\tprint('Independent (fail to reject H0),gender and education level not dependent at 5% level of significance')\n"
   ]
  },
  {
   "cell_type": "code",
   "execution_count": 38,
   "metadata": {},
   "outputs": [
    {
     "name": "stdout",
     "output_type": "stream",
     "text": [
      "varience of three group are 48.2 35.4 69.8\n",
      "p value of ANOVA test : 0.0030597541434430556\n",
      "It is predicted that all Group has not same mean so all group are not identical \n"
     ]
    }
   ],
   "source": [
    "\"\"\"\n",
    "2. Using the following data, perform a one-way analysis of variance using α=.05. Write up the results in APA format. \n",
    " \n",
    "[Group1: 51, 45, 33, 45, 67]  \n",
    "[Group2: 23, 43, 23, 43, 45] \n",
    "[Group3: 56, 76, 74, 87, 56] \n",
    " \n",
    "\"\"\"\n",
    "import numpy as np\n",
    "from scipy.stats import f_oneway\n",
    "gp1 = np.array([51, 45, 33, 45, 67])\n",
    "gp2 = np.array([23, 43, 23, 43, 45])\n",
    "gp3 = np.array([56, 76, 74, 87, 56])\n",
    "np.var(gp1)\n",
    "print (\"varience of three group are\",np.mean(gp1),np.mean(gp2),np.mean(gp3))\n",
    "\n",
    "f_on=scipy.stats.f_oneway(gp1,gp2,gp3)\n",
    "print (\"p value of ANOVA test :\",f_on.pvalue)\n",
    "#f_value =f_on.statistic\n",
    "#f_value\n",
    "if f_on.pvalue>0.05:\n",
    "    print (\"It is predicted that all Group has same mean so all group are  identical\")\n",
    "else :\n",
    "    print (\"It is predicted that all Group has not same mean so all group are not identical \")\n"
   ]
  },
  {
   "cell_type": "code",
   "execution_count": null,
   "metadata": {},
   "outputs": [],
   "source": []
  },
  {
   "cell_type": "code",
   "execution_count": null,
   "metadata": {},
   "outputs": [],
   "source": []
  },
  {
   "cell_type": "code",
   "execution_count": null,
   "metadata": {},
   "outputs": [],
   "source": []
  },
  {
   "cell_type": "code",
   "execution_count": 39,
   "metadata": {},
   "outputs": [
    {
     "name": "stdout",
     "output_type": "stream",
     "text": [
      "f test value is  4.0\n",
      "3.6\n",
      "0.0943497728424377\n",
      "It is predicted that all Group has same mean so all group are  identical\n"
     ]
    }
   ],
   "source": [
    "\"\"\"\n",
    "3. Calculate F Test for given 10, 20, 30, 40, 50 and 5,10,15, 20, 25. \n",
    " \n",
    "For 10, 20, 30, 40, 50: \n",
    "\"\"\"\n",
    "gp6 = np.array([10, 20, 30, 40, 50])\n",
    "gp7 = np.array([5,10,15, 20, 25])\n",
    "\n",
    "f= gp6.var()/gp7.var()\n",
    "print (\"f test value is \",f)\n",
    "\n",
    "#### Second using ANNOVA#####\n",
    "f_value1,p_val1 = scipy.stats.f_oneway(gp6,gp7)\n",
    "print (f_value1)\n",
    "print (p_val1)\n",
    "\n",
    "if p_val1>0.05:\n",
    "    print (\"It is predicted that all Group has same mean so all group are  identical\")\n",
    "else :\n",
    "    print (\"It is predicted that all Group has not same mean so all group are not identical \")\n",
    "\n",
    "\n",
    "\n",
    "#pf_value = scipy.stats.f.cdf(f, gp6, gp7)\n",
    "#pf_value\n",
    "#if p_value > alpha:"
   ]
  },
  {
   "cell_type": "code",
   "execution_count": null,
   "metadata": {
    "collapsed": true
   },
   "outputs": [],
   "source": []
  }
 ],
 "metadata": {
  "kernelspec": {
   "display_name": "Python 3",
   "language": "python",
   "name": "python3"
  },
  "language_info": {
   "codemirror_mode": {
    "name": "ipython",
    "version": 3
   },
   "file_extension": ".py",
   "mimetype": "text/x-python",
   "name": "python",
   "nbconvert_exporter": "python",
   "pygments_lexer": "ipython3",
   "version": "3.7.3"
  }
 },
 "nbformat": 4,
 "nbformat_minor": 2
}
